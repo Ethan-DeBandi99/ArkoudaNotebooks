{
 "cells": [
  {
   "cell_type": "markdown",
   "metadata": {},
   "source": [
    "# Research Multi-dimensional Object Storage\n",
    "\n",
    "This notebook serves to research the structure and storage options for multi-dimensional objects in hdf5 format before configuring Chapel code on the Arkouda server to handle this."
   ]
  },
  {
   "cell_type": "code",
   "execution_count": 1,
   "metadata": {},
   "outputs": [
    {
     "name": "stdout",
     "output_type": "stream",
     "text": [
      "    _         _                   _       \n",
      "   / \\   _ __| | _____  _   _  __| | __ _ \n",
      "  / _ \\ | '__| |/ / _ \\| | | |/ _` |/ _` |\n",
      " / ___ \\| |  |   < (_) | |_| | (_| | (_| |\n",
      "/_/   \\_\\_|  |_|\\_\\___/ \\__,_|\\__,_|\\__,_|\n",
      "                                          \n",
      "\n",
      "Client Version: v2022.06.06+4.g04c634a6\n"
     ]
    }
   ],
   "source": [
    "# import required packages\n",
    "import os\n",
    "import arkouda as ak\n",
    "import h5py\n",
    "import pandas as pd\n",
    "import numpy as np"
   ]
  },
  {
   "cell_type": "code",
   "execution_count": 2,
   "metadata": {},
   "outputs": [
    {
     "name": "stderr",
     "output_type": "stream",
     "text": [
      "/Users/ethandebandi/Documents/git/arkouda/arkouda/client.py:164: RuntimeWarning: Version mismatch between client (v2022.06.06+4.g04c634a6) and server (v2022.06.06+6.g1558fa9f); this may cause some commands to fail or behave incorrectly! Updating arkouda is strongly recommended.\n",
      "  warnings.warn(\n",
      "connected to arkouda server tcp://*:5555\n"
     ]
    }
   ],
   "source": [
    "# connect ot arkouda server. Requires server to be running.\n",
    "ak.connect()"
   ]
  },
  {
   "cell_type": "markdown",
   "metadata": {},
   "source": [
    "## Review of Current Format\n",
    "\n",
    "To make sure it is clear how Arkouda stores hdf5 files, we will perform some parsing of an object saved in arkouda as it stands today."
   ]
  },
  {
   "cell_type": "code",
   "execution_count": 3,
   "metadata": {},
   "outputs": [
    {
     "name": "stdout",
     "output_type": "stream",
     "text": [
      "Keys: ['Random_A', 'Random_B', 'Random_C', '_arkouda_metadata']\n",
      "METADATA: <HDF5 group \"/_arkouda_metadata\" (0 members)>\n",
      "\tCurrently nothing in file, need to research what would be added.\n",
      "Random_A: [2 1 3 0 2]\t DataType: <HDF5 dataset \"Random_A\": shape (5,), type \"<i8\">\n",
      "Random_B: [2 1 4 4 3]\t DataType: <HDF5 dataset \"Random_B\": shape (5,), type \"<i8\">\n",
      "Random_C: [1 4 3 4 3]\t DataType: <HDF5 dataset \"Random_C\": shape (5,), type \"<i8\">\n"
     ]
    }
   ],
   "source": [
    "# load file saved by arkouda using h5py\n",
    "f = h5py.File('/Users/ethandebandi/Documents/save_load_testing/ak_test_LOCALE0000.hdf5')\n",
    "\n",
    "# List the keys\n",
    "k = list(f.keys())\n",
    "print(f\"Keys: {k}\")\n",
    "\n",
    "# What is in _arkouda_metadata\n",
    "meta = f['_arkouda_metadata']\n",
    "mk = list(meta.keys())\n",
    "print(f\"METADATA: {meta}\\n\\tCurrently nothing in file, need to research what would be added.\")\n",
    "\n",
    "# access fields\n",
    "for key in k:\n",
    "    if key == \"_arkouda_metadata\":\n",
    "        continue\n",
    "    d = f[key][:]\n",
    "    print(f\"{key}: {d}\\t DataType: {f[key]}\")\n",
    "\n",
    "# Based on dataset information we will probably be able to leverage this to determine shape"
   ]
  },
  {
   "cell_type": "markdown",
   "metadata": {},
   "source": [
    "## Object Configuration\n",
    "\n",
    "The Arkouda `ArrayView` module allows for multi-dimensional representation of `pdarrays`. We will be using this as the driving force behind storing Multi-Dimensional Objects."
   ]
  },
  {
   "cell_type": "code",
   "execution_count": 4,
   "metadata": {},
   "outputs": [
    {
     "data": {
      "text/plain": [
       "array([[[ 0,  1,  2],\n",
       "        [ 3,  4,  5],\n",
       "        [ 6,  7,  8]],\n",
       "\n",
       "       [[ 9, 10, 11],\n",
       "        [12, 13, 14],\n",
       "        [15, 16, 17]],\n",
       "\n",
       "       [[18, 19, 20],\n",
       "        [21, 22, 23],\n",
       "        [24, 25, 26]]])"
      ]
     },
     "execution_count": 4,
     "metadata": {},
     "output_type": "execute_result"
    }
   ],
   "source": [
    "a = ak.arange(27)\n",
    "r = a.reshape((3, 3, 3))\n",
    "r"
   ]
  },
  {
   "cell_type": "markdown",
   "metadata": {},
   "source": [
    "## Write Multi-Dim Object to HDF5\n",
    "\n",
    "Take the `ArrayView` object and write it into HDF5"
   ]
  },
  {
   "cell_type": "code",
   "execution_count": 5,
   "metadata": {},
   "outputs": [],
   "source": [
    "def write_data(dset, shape, dim, data):\n",
    "    if dim == len(shape)-1:\n",
    "        for i in range(shape[dim]):\n",
    "            dset[i] = data[i]\n",
    "    else:\n",
    "        dset[dim] = write_data(dset[dim+1], shape, dim+1, data[dim+1])\n",
    "    return dset\n"
   ]
  },
  {
   "cell_type": "code",
   "execution_count": 17,
   "metadata": {},
   "outputs": [
    {
     "name": "stdout",
     "output_type": "stream",
     "text": [
      "[[[ 0  1  2]\n",
      "  [ 3  4  5]\n",
      "  [ 6  7  8]]\n",
      "\n",
      " [[ 9 10 11]\n",
      "  [12 13 14]\n",
      "  [15 16 17]]\n",
      "\n",
      " [[18 19 20]\n",
      "  [21 22 23]\n",
      "  [24 25 26]]]\n",
      "{'Shape': array([3, 3, 3])}\n"
     ]
    }
   ],
   "source": [
    "fpath = '/Users/ethandebandi/Documents/save_load_testing/multi_dim.hdf5'\n",
    "os.remove(fpath)\n",
    "\n",
    "s = r.shape.to_ndarray()\n",
    "f = h5py.File(fpath, 'w')\n",
    "dset = f.create_dataset('obj', shape=tuple(s), dtype='i', data=r)  # Note we will need to set the dtype based on\n",
    "dset.attrs.create('Shape', (3, 3, 3))\n",
    "f.close()\n",
    "\n",
    "# open file and see if it worked\n",
    "f = h5py.File('/Users/ethandebandi/Documents/save_load_testing/multi_dim.hdf5', 'r')\n",
    "dset = f['obj']\n",
    "print(dset[:])\n",
    "print(dict(dset.attrs.items()))"
   ]
  },
  {
   "cell_type": "code",
   "execution_count": 18,
   "metadata": {},
   "outputs": [],
   "source": [
    "ak.shutdown()"
   ]
  }
 ],
 "metadata": {
  "interpreter": {
   "hash": "c9843ec7bf92a92e5648c61892a56b72546cb6f7f783cc4fa72865bc7befe91a"
  },
  "kernelspec": {
   "display_name": "Python 3.9.7 ('arkouda')",
   "language": "python",
   "name": "python3"
  },
  "language_info": {
   "codemirror_mode": {
    "name": "ipython",
    "version": 3
   },
   "file_extension": ".py",
   "mimetype": "text/x-python",
   "name": "python",
   "nbconvert_exporter": "python",
   "pygments_lexer": "ipython3",
   "version": "3.9.13"
  },
  "orig_nbformat": 4
 },
 "nbformat": 4,
 "nbformat_minor": 2
}
