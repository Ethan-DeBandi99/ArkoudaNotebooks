{
 "cells": [
  {
   "cell_type": "markdown",
   "metadata": {},
   "source": [
    "# Research Multi-dimensional Object Storage\n",
    "\n",
    "This notebook serves to research the structure and storage options for multi-dimensional objects in hdf5 format before configuring Chapel code on the Arkouda server to handle this."
   ]
  },
  {
   "cell_type": "code",
   "execution_count": null,
   "metadata": {},
   "outputs": [],
   "source": [
    "# import required packages\n",
    "import os\n",
    "import arkouda as ak\n",
    "import h5py\n",
    "import pandas as pd\n",
    "import numpy as np"
   ]
  },
  {
   "cell_type": "code",
   "execution_count": null,
   "metadata": {},
   "outputs": [],
   "source": [
    "# connect ot arkouda server. Requires server to be running.\n",
    "ak.connect()"
   ]
  },
  {
   "cell_type": "markdown",
   "metadata": {},
   "source": [
    "## Review of Current Format\n",
    "\n",
    "To make sure it is clear how Arkouda stores hdf5 files, we will perform some parsing of an object saved in arkouda as it stands today."
   ]
  },
  {
   "cell_type": "code",
   "execution_count": null,
   "metadata": {},
   "outputs": [],
   "source": [
    "# load file saved by arkouda using h5py\n",
    "f = h5py.File('/Users/ethandebandi/Documents/save_load_testing/ak_test_LOCALE0000.hdf5')\n",
    "\n",
    "# List the keys\n",
    "k = list(f.keys())\n",
    "print(f\"Keys: {k}\")\n",
    "\n",
    "# What is in _arkouda_metadata\n",
    "meta = f['_arkouda_metadata']\n",
    "mk = list(meta.keys())\n",
    "print(f\"METADATA: {meta}\\n\\tCurrently nothing in file, need to research what would be added.\")\n",
    "\n",
    "# access fields\n",
    "for key in k:\n",
    "    if key == \"_arkouda_metadata\":\n",
    "        continue\n",
    "    d = f[key][:]\n",
    "    print(f\"{key}: {d}\\t DataType: {f[key]}\")\n",
    "\n",
    "# Based on dataset information we will probably be able to leverage this to determine shape"
   ]
  },
  {
   "cell_type": "markdown",
   "metadata": {},
   "source": [
    "## Object Configuration\n",
    "\n",
    "The Arkouda `ArrayView` module allows for multi-dimensional representation of `pdarrays`. We will be using this as the driving force behind storing Multi-Dimensional Objects."
   ]
  },
  {
   "cell_type": "code",
   "execution_count": null,
   "metadata": {},
   "outputs": [],
   "source": [
    "a = ak.arange(27)\n",
    "r = a.reshape((3, 3, 3))\n",
    "r"
   ]
  },
  {
   "cell_type": "markdown",
   "metadata": {},
   "source": [
    "## Write Multi-Dim Object to HDF5\n",
    "\n",
    "Take the `ArrayView` object and write it into HDF5"
   ]
  },
  {
   "cell_type": "code",
   "execution_count": null,
   "metadata": {},
   "outputs": [],
   "source": [
    "def write_data(dset, shape, dim, data):\n",
    "    if dim == len(shape)-1:\n",
    "        for i in range(shape[dim]):\n",
    "            dset[i] = data[i]\n",
    "    else:\n",
    "        dset[dim] = write_data(dset[dim+1], shape, dim+1, data[dim+1])\n",
    "    return dset\n"
   ]
  },
  {
   "cell_type": "code",
   "execution_count": null,
   "metadata": {},
   "outputs": [],
   "source": [
    "fpath = '/Users/ethandebandi/Documents/save_load_testing/multi_dim.hdf5'\n",
    "#os.remove(fpath)\n",
    "\n",
    "s = r.shape.to_ndarray()\n",
    "f = h5py.File(fpath, 'w')\n",
    "dset = f.create_dataset('obj', shape=tuple(s), dtype='i', data=r)  # Note we will need to set the dtype based on\n",
    "dset.attrs.create('Shape', s)\n",
    "dset.attrs.create('Rank', s.size)\n",
    "f.close()\n",
    "\n",
    "# open file and see if it worked\n",
    "f = h5py.File('/Users/ethandebandi/Documents/save_load_testing/multi_dim.hdf5', 'r')\n",
    "dset = f['obj']\n",
    "print(dset[:])\n",
    "print(dict(dset.attrs.items()))"
   ]
  },
  {
   "cell_type": "markdown",
   "metadata": {},
   "source": [
    "## Reading Using Chapel\n",
    "Ensure that we are able to read the data from the file created using chapel"
   ]
  },
  {
   "cell_type": "code",
   "execution_count": null,
   "metadata": {},
   "outputs": [],
   "source": [
    "import arkouda as ak\n",
    "ak.connect()\n",
    "fpath = '/Users/ethandebandi/Documents/save_load_testing/multi_dim.hdf5'\n",
    "ak.read_hdf5_multi_dim(fpath, 'obj')"
   ]
  },
  {
   "cell_type": "markdown",
   "metadata": {},
   "source": [
    "## Writing using Chapel\n",
    "Ensure that we are able to write multi-dimensional data to a file using chapel."
   ]
  },
  {
   "cell_type": "code",
   "execution_count": 5,
   "metadata": {},
   "outputs": [
    {
     "name": "stderr",
     "output_type": "stream",
     "text": [
      "/Users/ethandebandi/Documents/git/arkouda/arkouda/client.py:164: RuntimeWarning: Version mismatch between client (v2022.06.13+30.gf5b944ab) and server (v2022.06.13+30.gf5b944ab.dirty); this may cause some commands to fail or behave incorrectly! Updating arkouda is strongly recommended.\n",
      "  warnings.warn(\n",
      "connected to arkouda server tcp://*:5555\n"
     ]
    }
   ],
   "source": [
    "import arkouda as ak\n",
    "ak.connect()\n",
    "fpath = '/Users/ethandebandi/Documents/save_load_testing/multi_dim_save.hdf5'\n",
    "arr = ak.ArrayView(ak.arange(27), ak.array([3, 3, 3]))\n",
    "ak.write_hdf5_multi_dim(arr, fpath, 'WithType', mode=\"append\", storage=\"flat\")\n",
    "\n"
   ]
  },
  {
   "cell_type": "markdown",
   "metadata": {},
   "source": [
    "### Read The resulting file\n",
    "Used for verification of the action"
   ]
  },
  {
   "cell_type": "code",
   "execution_count": 6,
   "metadata": {},
   "outputs": [
    {
     "name": "stdout",
     "output_type": "stream",
     "text": [
      "File Keys:\n",
      "\t['WithType']\n",
      "Format 0\n",
      "ObjType b'ArrayView'\n",
      "Rank 3\n",
      "Shape [3 3 3]\n"
     ]
    }
   ],
   "source": [
    "import h5py\n",
    "fpath = '/Users/ethandebandi/Documents/save_load_testing/multi_dim_save.hdf5'\n",
    "with h5py.File(fpath, 'r') as f:\n",
    "    k = list(f.keys())\n",
    "    print(f\"File Keys:\\n\\t{k}\")\n",
    "\n",
    "    # make sure the dataset is readable\n",
    "    dset = f['WithType']\n",
    "    # print(dset[:])\n",
    "    for i, v in dset.attrs.items():\n",
    "        print(i,v)"
   ]
  },
  {
   "cell_type": "code",
   "execution_count": 7,
   "metadata": {},
   "outputs": [],
   "source": [
    "ak.shutdown()"
   ]
  }
 ],
 "metadata": {
  "kernelspec": {
   "display_name": "Python 3.10.4 ('ak-base')",
   "language": "python",
   "name": "python3"
  },
  "language_info": {
   "codemirror_mode": {
    "name": "ipython",
    "version": 3
   },
   "file_extension": ".py",
   "mimetype": "text/x-python",
   "name": "python",
   "nbconvert_exporter": "python",
   "pygments_lexer": "ipython3",
   "version": "3.10.4"
  },
  "orig_nbformat": 4,
  "vscode": {
   "interpreter": {
    "hash": "deb29be2a6441ace2d49dc78ad10bfa5438b45713d188baaf5f0cfa3f2a39e6b"
   }
  }
 },
 "nbformat": 4,
 "nbformat_minor": 2
}
